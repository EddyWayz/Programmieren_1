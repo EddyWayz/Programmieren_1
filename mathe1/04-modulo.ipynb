{
  "cells": [
    {
      "cell_type": "markdown",
      "metadata": {
        "id": "PJiFia8Y36cI"
      },
      "source": [
        "# Rechnen modulo m\n",
        "\n",
        "## Generelles:\n",
        "Importieren Sie zunächst die mathematischen Pakete. Denken Sie daran, diese Imports jedes mal als erstes auszuführen!"
      ]
    },
    {
      "cell_type": "code",
      "execution_count": 1,
      "metadata": {
        "id": "Ty3HeQBc36cL"
      },
      "outputs": [],
      "source": [
        "import numpy as np\n",
        "import pylab as plt\n",
        "import scipy as sp"
      ]
    },
    {
      "cell_type": "markdown",
      "metadata": {
        "id": "l-q3PsVk36cM"
      },
      "source": [
        "## Erste Schritte\n",
        "In Python ist der Modulo-Operator das Prozent-Zeichen.\n",
        "Berechnen Sie im folgenden, in welche Restklasse modulo 26 die Zahlen gehören, indem Sie jeweils das Ergebnis von x % 26 ausgeben."
      ]
    },
    {
      "cell_type": "code",
      "execution_count": 2,
      "metadata": {
        "id": "IRdHtSJO36cM",
        "outputId": "0eec3242-2ca9-43f7-d543-732c6e89d1ca",
        "colab": {
          "base_uri": "https://localhost:8080/"
        }
      },
      "outputs": [
        {
          "output_type": "execute_result",
          "data": {
            "text/plain": [
              "4"
            ]
          },
          "metadata": {},
          "execution_count": 2
        }
      ],
      "source": [
        "4 % 26"
      ]
    },
    {
      "cell_type": "code",
      "execution_count": 3,
      "metadata": {
        "id": "lB7KJe5G36cM",
        "outputId": "ff42536b-fb19-4780-bd27-01cefe25c84f",
        "colab": {
          "base_uri": "https://localhost:8080/"
        }
      },
      "outputs": [
        {
          "output_type": "execute_result",
          "data": {
            "text/plain": [
              "5"
            ]
          },
          "metadata": {},
          "execution_count": 3
        }
      ],
      "source": [
        "31 % 26"
      ]
    },
    {
      "cell_type": "code",
      "execution_count": 4,
      "metadata": {
        "id": "BXqrCChg36cM",
        "outputId": "8d869755-697d-4c0a-c82b-c316a1526632",
        "colab": {
          "base_uri": "https://localhost:8080/"
        }
      },
      "outputs": [
        {
          "output_type": "execute_result",
          "data": {
            "text/plain": [
              "25"
            ]
          },
          "metadata": {},
          "execution_count": 4
        }
      ],
      "source": [
        "-1 % 26"
      ]
    },
    {
      "cell_type": "markdown",
      "metadata": {
        "id": "ifFSD1WE36cM"
      },
      "source": [
        "### Teiilbarkeit\n",
        "\n",
        "Nutzen Sie den Modulo-Operator, um zu prüfen, ob eine Zahl $a$ gerade ist:"
      ]
    },
    {
      "cell_type": "code",
      "execution_count": 8,
      "metadata": {
        "id": "gvkyPi5h36cN",
        "outputId": "2682a81b-d7bf-4a06-92ab-69c231a3b563",
        "colab": {
          "base_uri": "https://localhost:8080/"
        }
      },
      "outputs": [
        {
          "output_type": "stream",
          "name": "stdout",
          "text": [
            "ungerade\n",
            "gerade\n"
          ]
        }
      ],
      "source": [
        "def even(a):\n",
        "  if a % 2 == 0:\n",
        "    print(\"gerade\")\n",
        "  else:\n",
        "    print(\"ungerade\")\n",
        "\n",
        "even(19)\n",
        "even(20)"
      ]
    },
    {
      "cell_type": "markdown",
      "metadata": {
        "id": "RasYA_yx36cN"
      },
      "source": [
        "Prüfen Sie jetzt, ob eine Variable year durch 4 teilbar ist:"
      ]
    },
    {
      "cell_type": "code",
      "execution_count": null,
      "metadata": {
        "id": "R66Y1wyM36cN"
      },
      "outputs": [],
      "source": [
        "def is_leap_year(year):\n",
        "  if year % 4 == 0:\n",
        "    return True\n",
        "  else:\n",
        "    return False\n",
        "\n",
        "print(is_leap_year(2025))\n",
        "print(is_leap_year(2024))"
      ]
    },
    {
      "cell_type": "markdown",
      "metadata": {
        "id": "E7FQuWLW36cN"
      },
      "source": [
        "In der folgenden Schleife soll nur jeder 10. Schleifendurchlauf ausgegeben werden:"
      ]
    },
    {
      "cell_type": "code",
      "execution_count": 9,
      "metadata": {
        "id": "njMx9YIe36cN",
        "outputId": "e379f0fb-b815-4431-b3f1-f74544f9a79e",
        "colab": {
          "base_uri": "https://localhost:8080/"
        }
      },
      "outputs": [
        {
          "output_type": "stream",
          "name": "stdout",
          "text": [
            "Iteration 0\n",
            "Iteration 10\n",
            "Iteration 20\n",
            "Iteration 30\n",
            "Iteration 40\n",
            "Iteration 50\n",
            "Iteration 60\n",
            "Iteration 70\n",
            "Iteration 80\n",
            "Iteration 90\n"
          ]
        }
      ],
      "source": [
        "for i in range(100):\n",
        "  if i % 10 == 0:\n",
        "    print(\"Iteration\", i)"
      ]
    },
    {
      "cell_type": "markdown",
      "metadata": {
        "id": "cGQDEutQ36cN"
      },
      "source": [
        "### Kongruente Zahlen\n",
        "\n",
        "Schreiben Sie eine Funktion `congruent(a, b, m)` , die überprüft, ob zwei Zahlen a und b kongruent modulo m sind.\n",
        "\n",
        "Hinweis: in Python sind die beiden Booleschen Werte `True` und `False`"
      ]
    },
    {
      "cell_type": "code",
      "execution_count": 10,
      "metadata": {
        "id": "qQWUEYDX36cO",
        "outputId": "f2efad0c-626e-4dab-c5da-e64f68d60dae",
        "colab": {
          "base_uri": "https://localhost:8080/"
        }
      },
      "outputs": [
        {
          "output_type": "stream",
          "name": "stdout",
          "text": [
            "True (erwartet: True)\n",
            "True (erwartet: True)\n",
            "False (erwartet: False)\n"
          ]
        }
      ],
      "source": [
        "def congruent(a, b, m):\n",
        "    if (b-a) % m:\n",
        "      return False\n",
        "    else:\n",
        "      return True\n",
        "\n",
        "\n",
        "print(congruent(1, 5, 4), \"(erwartet: True)\")\n",
        "print(congruent(1, 27, 26), \"(erwartet: True)\")\n",
        "print(congruent(1, 46, 26), \"(erwartet: False)\")"
      ]
    },
    {
      "cell_type": "markdown",
      "metadata": {
        "id": "gJCMF7-Y36cO"
      },
      "source": [
        "### Caesar Verschlüsselung\n",
        "Vervollständigen Sie die Funktion `encrypt(message, key)`, die eine Caesar-Verschlüsselung durchführt. Denken Sie daran, dass alle Zahlen mod 26 zu rechnen sind.\n",
        "\n",
        "Beispiel: Wenn Sie den String \"Hallo Welt\" mit key 4 verschlüsseln, sollte als Ergebnis \"LEPPS AIPX\" herauskommen."
      ]
    },
    {
      "cell_type": "code",
      "execution_count": 13,
      "metadata": {
        "id": "SwcJ5cSu36cO",
        "outputId": "ceafda4f-c87d-4543-ff28-0162eb71e147",
        "colab": {
          "base_uri": "https://localhost:8080/",
          "height": 35
        }
      },
      "outputs": [
        {
          "output_type": "execute_result",
          "data": {
            "text/plain": [
              "'LEPPS AIPX'"
            ],
            "application/vnd.google.colaboratory.intrinsic+json": {
              "type": "string"
            }
          },
          "metadata": {},
          "execution_count": 13
        }
      ],
      "source": [
        "def letter_to_number(c):\n",
        "    return ord(c.upper()) - 65\n",
        "\n",
        "\n",
        "def number_to_letter(n):\n",
        "    return chr(n + 65)\n",
        "\n",
        "\n",
        "def caesar_encrypt(message, key):\n",
        "    ciphertext = \"\"  # empty string\n",
        "    for c in message:\n",
        "        if c == \" \":\n",
        "            ciphertext += \" \"\n",
        "        else:\n",
        "            n = letter_to_number(c)\n",
        "            n = (n + key) % 26\n",
        "            ciphertext += number_to_letter(n)\n",
        "    return ciphertext\n",
        "\n",
        "\n",
        "caesar_encrypt(\"Hallo Welt\", 4)"
      ]
    },
    {
      "cell_type": "markdown",
      "metadata": {
        "id": "ykXDWbnQ36cO"
      },
      "source": [
        "Schreiben Sie jetzt die zugehörige Entschlüsselungsfunktion. Dafür müssen Sie die Verschlüsselungsoperation $a + b$ mod $m$ rückgängig machen, indem Sie das additive Inverse von $b$ addieren."
      ]
    },
    {
      "cell_type": "code",
      "execution_count": 14,
      "metadata": {
        "id": "O7EyjW_Y36cO",
        "outputId": "3995ebe1-ef9a-4a7a-f76d-17aa2ebef182",
        "colab": {
          "base_uri": "https://localhost:8080/",
          "height": 35
        }
      },
      "outputs": [
        {
          "output_type": "execute_result",
          "data": {
            "text/plain": [
              "'HALLO WELT'"
            ],
            "application/vnd.google.colaboratory.intrinsic+json": {
              "type": "string"
            }
          },
          "metadata": {},
          "execution_count": 14
        }
      ],
      "source": [
        "def caesar_decrypt(ciphertext, key):\n",
        "    message = \"\"\n",
        "    for c in ciphertext:\n",
        "        if c == \" \":\n",
        "            message += \" \"\n",
        "        else:\n",
        "            n = letter_to_number(c)\n",
        "            n = (n - key) % 26\n",
        "            message += number_to_letter(n)\n",
        "    return message\n",
        "\n",
        "\n",
        "caesar_decrypt(\"LEPPS AIPX\", 4)"
      ]
    },
    {
      "cell_type": "markdown",
      "metadata": {
        "id": "QUVphZL136cO"
      },
      "source": [
        "### GGT Berechnung\n",
        "Implementieren Sie die Funktion `ggT(a,b)`, die den größten gemeinsamen Teiler zweier Zahlen $a$ und $b$ berechnet. Verwenden Sie dazu den in der Vorlesung besprochenen Eukldischen Algorithmus.\n",
        "\n",
        "Vermutlich fällt es Ihnen am leichtesten, zunächst eine rekursive Funktion zu implementieren. Können Sie auch alternativ eine Variante mit Schleifen realisieren?"
      ]
    },
    {
      "cell_type": "code",
      "execution_count": 18,
      "metadata": {
        "id": "FkN9Fi7l36cP",
        "outputId": "5c4ceac8-4a4e-42fd-eba5-f47f1e219d50",
        "colab": {
          "base_uri": "https://localhost:8080/"
        }
      },
      "outputs": [
        {
          "output_type": "stream",
          "name": "stdout",
          "text": [
            "1 (should be 1)\n",
            "2 (should be 2)\n",
            "1 (should be 1)\n",
            "2 (should be 2)\n",
            "5 (should be 5)\n"
          ]
        }
      ],
      "source": [
        "def ggT(a, b):\n",
        "    \"\"\"Compute the greatest common divisor (GCD) of a and b\"\"\"\n",
        "    if b == 0:\n",
        "        return a  # Basisfall: Wenn b = 0 ist, ist a der GGT.\n",
        "    return ggT(b, a % b)  # Rekursiver Aufruf mit b und dem Rest von a / b\n",
        "\n",
        "\n",
        "\n",
        "\n",
        "print(ggT(10, 1), \"(should be 1)\")\n",
        "print(ggT(10, 2), \"(should be 2)\")\n",
        "print(ggT(10, 3), \"(should be 1)\")\n",
        "print(ggT(10, 4), \"(should be 2)\")\n",
        "print(ggT(10, 5), \"(should be 5)\")"
      ]
    },
    {
      "cell_type": "markdown",
      "metadata": {
        "id": "hHayDxJb36cP"
      },
      "source": [
        "### Erweiterter ggT-Algorithmus\n",
        "Implementieren Sie jetzt den erweiterten Euklidischen ggT-Algorithmus. Rückgabe sind die drei Zahlen $t$, $x_0$ und $y_0$.\n",
        "\n",
        "Hinweis: in Python können Sie mehrere Ergebnisse aus einer Funktion durch Komma getrennt zurückgeben. Sie erhalten als Rückgabetyp dann ein sog. Tupel, auf dessen Elemente Sie mit `result[0]`, `result[1]`, etc. zugreifen können."
      ]
    },
    {
      "cell_type": "code",
      "execution_count": 23,
      "metadata": {
        "id": "9T2QYCir36cP",
        "outputId": "f09945e2-61e6-430b-94f1-fea2ea5e976b",
        "colab": {
          "base_uri": "https://localhost:8080/"
        }
      },
      "outputs": [
        {
          "output_type": "stream",
          "name": "stdout",
          "text": [
            "(7, -2, 7) (Erwartetes Ergebnis: (7, -2, 7))\n"
          ]
        }
      ],
      "source": [
        "def EggT(a, b, x=1, xx=0, y=0, yy=1):\n",
        "    \"\"\"Compute x_0 and y_0 so that t = ggT(a,b) = a*x_0 + b*y_0\"\"\"\n",
        "    if (b == 0):\n",
        "      return a, x, y\n",
        "\n",
        "    return EggT(b, a % b, xx, x - (a // b) * xx, yy, y - (a // b) * yy)\n",
        "\n",
        "\n",
        "print(EggT(217, 63), \"(Erwartetes Ergebnis: (7, -2, 7))\")"
      ]
    },
    {
      "cell_type": "markdown",
      "metadata": {
        "id": "Nw1p4ZRQ36cP"
      },
      "source": [
        "### Multiplikative Inverse\n",
        "Sie können den EggT-Algorithmus wie in der Vorlesung besprochen zur effizienten Berechnung der multiplikativen Inversen benutzen. Schreiben Sie also eine Funktion, die die  multiplikative Inverse unter Verwendung der oben definierten Funktion EggT berechnet.\n",
        "Falls keine multiplikative Inverse existiert, geben Sie 0 zurück."
      ]
    },
    {
      "cell_type": "code",
      "execution_count": 40,
      "metadata": {
        "id": "oy0ocHUs36cP",
        "outputId": "3e890f91-4ff7-4fea-f069-d8520fef098a",
        "colab": {
          "base_uri": "https://localhost:8080/"
        }
      },
      "outputs": [
        {
          "output_type": "stream",
          "name": "stdout",
          "text": [
            "3 9 27 1\n"
          ]
        }
      ],
      "source": [
        "def multiplicative_inverse(a, m):\n",
        "    \"\"\"Compute the multiplicative inverse of a mod m\"\"\"\n",
        "    a, x, y = EggT(a,m)\n",
        "    if a != 1:\n",
        "      return 0\n",
        "    return x\n",
        "\n",
        "\n",
        "a = 3\n",
        "m = 26\n",
        "x = multiplicative_inverse(a, m)\n",
        "\n",
        "# Now, verify that a*x mod m should be 1!\n",
        "print(a, x, a * x, a * x % m)"
      ]
    }
  ],
  "metadata": {
    "kernelspec": {
      "display_name": "Python 3",
      "language": "python",
      "name": "python3"
    },
    "language_info": {
      "codemirror_mode": {
        "name": "ipython",
        "version": 3
      },
      "file_extension": ".py",
      "mimetype": "text/x-python",
      "name": "python",
      "nbconvert_exporter": "python",
      "pygments_lexer": "ipython3",
      "version": "3.11.8"
    },
    "colab": {
      "provenance": []
    }
  },
  "nbformat": 4,
  "nbformat_minor": 0
}