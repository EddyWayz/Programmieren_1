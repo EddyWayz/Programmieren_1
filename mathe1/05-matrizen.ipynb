{
  "cells": [
    {
      "cell_type": "markdown",
      "metadata": {
        "id": "nRRGE926eY2s"
      },
      "source": [
        "# Matrixrechnung\n",
        "\n",
        "## Generelles:\n",
        "Importieren Sie zunächst die mathematischen Pakete. Denken Sie daran, diese Imports jedes mal als erstes auszuführen!"
      ]
    },
    {
      "cell_type": "code",
      "execution_count": 21,
      "metadata": {
        "id": "GQwnqOQ8eY2v"
      },
      "outputs": [],
      "source": [
        "from scipy import *\n",
        "from pylab import *\n",
        "from numpy import *"
      ]
    },
    {
      "cell_type": "markdown",
      "metadata": {
        "id": "qDiTbGoieY2v"
      },
      "source": [
        "## Matrizen in Python: Grundlegende Operationen\n",
        "Matrizen werden in Python als 2D-arrays dargestellt. Sie können beispielsweise direkt zwei 2x2 Matrizen erstellen."
      ]
    },
    {
      "cell_type": "code",
      "execution_count": 22,
      "metadata": {
        "colab": {
          "base_uri": "https://localhost:8080/"
        },
        "id": "C4LH6ruReY2w",
        "outputId": "2724fe39-d2cc-400b-a38b-20bea2d605cf"
      },
      "outputs": [
        {
          "output_type": "stream",
          "name": "stdout",
          "text": [
            "[[1 2]\n",
            " [3 4]]\n",
            "[[5 6]\n",
            " [7 8]]\n"
          ]
        }
      ],
      "source": [
        "A = array([[1, 2], [3, 4]])\n",
        "B = array([[5, 6], [7, 8]])\n",
        "\n",
        "print(A)\n",
        "print(B)\n",
        "\n",
        "# Element Zugriff\n",
        "a = A[0, 0] # 1\n",
        "b = A[0, 1] # 2\n",
        "c = A[1, 0] # 3\n",
        "d = A[1, 1] # 4"
      ]
    },
    {
      "cell_type": "markdown",
      "metadata": {
        "id": "zwgf89GPeY2w"
      },
      "source": [
        "Die üblichen Operationen sind von numpy schon definiert: Addition, Subtraktion, Multiplikation, Transponieren"
      ]
    },
    {
      "cell_type": "code",
      "execution_count": 23,
      "metadata": {
        "colab": {
          "base_uri": "https://localhost:8080/"
        },
        "id": "f3fKbMC_eY2w",
        "outputId": "00c4bbac-eb93-4eae-96ac-71a671a41777"
      },
      "outputs": [
        {
          "output_type": "stream",
          "name": "stdout",
          "text": [
            "A + B =\n",
            " [[ 6  8]\n",
            " [10 12]]\n",
            "A - B =\n",
            " [[-4 -4]\n",
            " [-4 -4]]\n",
            "A @ B =\n",
            " [[19 22]\n",
            " [43 50]]\n",
            "dot(A, B) =\n",
            " [[19 22]\n",
            " [43 50]]\n",
            "A.T =\n",
            " [[1 3]\n",
            " [2 4]]\n"
          ]
        }
      ],
      "source": [
        "# Matrix addition\n",
        "C = A + B\n",
        "print(\"A + B =\\n\", C)\n",
        "\n",
        "# Matrix subtraction\n",
        "D = A - B\n",
        "print(\"A - B =\\n\", D)\n",
        "\n",
        "# Matrix multiplication\n",
        "E = A @ B\n",
        "print(\"A @ B =\\n\", E)\n",
        "# or\n",
        "F = dot(A, B)\n",
        "print(\"dot(A, B) =\\n\", F)\n",
        "\n",
        "# Transponierte Matrix\n",
        "G = A.T\n",
        "print(\"A.T =\\n\", G)"
      ]
    },
    {
      "cell_type": "markdown",
      "metadata": {
        "id": "b2gVFMA8eY2x"
      },
      "source": [
        "Sie können auch direkt Matrizen einer bestimmten Größe mit festgelegten Einträgen erzeugen lassen:"
      ]
    },
    {
      "cell_type": "code",
      "execution_count": 24,
      "metadata": {
        "colab": {
          "base_uri": "https://localhost:8080/"
        },
        "id": "w4ZwdOuneY2x",
        "outputId": "6c6bcf90-5321-4d64-9a4d-e60193b0eeb6"
      },
      "outputs": [
        {
          "output_type": "stream",
          "name": "stdout",
          "text": [
            "zeros((4, 5)) =\n",
            " [[0. 0. 0. 0. 0.]\n",
            " [0. 0. 0. 0. 0.]\n",
            " [0. 0. 0. 0. 0.]\n",
            " [0. 0. 0. 0. 0.]]\n",
            "eye(3) =\n",
            " [[1. 0. 0.]\n",
            " [0. 1. 0.]\n",
            " [0. 0. 1.]]\n",
            "diag([1, 2, 3]) =\n",
            " [[1 0 0]\n",
            " [0 2 0]\n",
            " [0 0 3]]\n",
            "ones((2, 3)) =\n",
            " [[1. 1. 1.]\n",
            " [1. 1. 1.]]\n"
          ]
        }
      ],
      "source": [
        "# Nullmatrix der Größe 4x5\n",
        "G = zeros((4, 5))\n",
        "print(\"zeros((4, 5)) =\\n\", G)\n",
        "\n",
        "# Einheitsmatrix der Größe 3x3\n",
        "H = eye(3)\n",
        "print(\"eye(3) =\\n\", H)\n",
        "\n",
        "# Diagonalmatrix\n",
        "I = diag([1, 2, 3])\n",
        "print(\"diag([1, 2, 3]) =\\n\", I)\n",
        "\n",
        "# Matrix mit einsen\n",
        "J = ones((2, 3))\n",
        "print(\"ones((2, 3)) =\\n\", J)"
      ]
    },
    {
      "cell_type": "markdown",
      "metadata": {
        "id": "Osu8P-vDeY2x"
      },
      "source": [
        "### Aufgabe:\n",
        "Führen Sie die folgenden Matrix-Multiplikationen aus. Vergleiche  Sie die Ergebnisse Stichprobenartig mit handschriftlichen Lösungen:\n",
        "\n",
        "$$\n",
        "\\begin{array}{cc}\n",
        "\\text{a)} \\begin{pmatrix}\n",
        "-2 & 3 & 1 \\\\\n",
        "6 & -9 & -3 \\\\\n",
        "4 & -6 & -2\n",
        "\\end{pmatrix}\n",
        "\\begin{pmatrix}\n",
        "3 & 1 & 1 \\\\\n",
        "2 & 0 & 1 \\\\\n",
        "0 & 2 & -1\n",
        "\\end{pmatrix} &\n",
        "\\text{b)} \\begin{pmatrix}\n",
        "1 & 0 & 0 \\\\\n",
        "0 & 1 & 0 \\\\\n",
        "4 & 0 & 0\n",
        "\\end{pmatrix}\n",
        "\\begin{pmatrix}\n",
        "1 & 0 & 0 \\\\\n",
        "0 & 1 & 0 \\\\\n",
        "4 & 0 & 0\n",
        "\\end{pmatrix} \\\\\n",
        "\\\\\n",
        "\\text{c)} \\begin{pmatrix}\n",
        "1 & 1 \\\\\n",
        "1 & 1\n",
        "\\end{pmatrix}\n",
        "\\begin{pmatrix}\n",
        "1 & 1 \\\\\n",
        "2 & 4\n",
        "\\end{pmatrix} &\n",
        "\\text{d)} \\begin{pmatrix}\n",
        "1 & 1 \\\\\n",
        "1 & 1\n",
        "\\end{pmatrix}\n",
        "\\begin{pmatrix}\n",
        "0 & 1 \\\\\n",
        "3 & 3\n",
        "\\end{pmatrix}\n",
        "\\end{array}\n",
        "$$"
      ]
    },
    {
      "cell_type": "code",
      "execution_count": 26,
      "metadata": {
        "colab": {
          "base_uri": "https://localhost:8080/"
        },
        "id": "wvcW80rveY2x",
        "outputId": "5b630d57-61c4-464a-8cf3-cfe6d5d3b0d1"
      },
      "outputs": [
        {
          "output_type": "stream",
          "name": "stdout",
          "text": [
            "[[-2  3  1]\n",
            " [ 6 -9 -3]\n",
            " [ 4 -6 -2]]\n",
            "[[ 3  1  1]\n",
            " [ 2  0 -1]\n",
            " [ 0  2 -1]]\n",
            "[[ 0  0 -6]\n",
            " [ 0  0 18]\n",
            " [ 0  0 12]]\n"
          ]
        }
      ],
      "source": [
        "# TODO\n",
        "A1 = array([[-2, 3, 1], [6, -9, -3], [4, -6, -2]])\n",
        "A2 = array([[3, 1, 1], [2, 0, -1], [0, 2, -1]])\n",
        "\n",
        "\n",
        "print(A1)\n",
        "print(A2)\n",
        "print(A1 @ A2)"
      ]
    },
    {
      "cell_type": "markdown",
      "metadata": {
        "id": "BhypmTUOeY2y"
      },
      "source": [
        "### Zugriff auf Zeilen oder Spalten einer Matrix\n",
        "Numpy Arrays unterstützten das sogenannte array-slicing. Damit können Sie sehr komfortabel auf Zeilen oder Spalten von Matrizen zugreifen. Dafür geben Sie als zweiten Index einfach einen Doppelpunkt an:"
      ]
    },
    {
      "cell_type": "code",
      "execution_count": 30,
      "metadata": {
        "colab": {
          "base_uri": "https://localhost:8080/"
        },
        "id": "TZoOl9MUeY2y",
        "outputId": "0f65cf41-3096-44bc-d366-890831104548"
      },
      "outputs": [
        {
          "output_type": "stream",
          "name": "stdout",
          "text": [
            "A =\n",
            " [[1 2 3]\n",
            " [4 5 6]\n",
            " [7 8 9]\n",
            " [7 8 9]]\n",
            "A[0, :] = [1 2 3]\n",
            "A[:, 0] = [1 4 7 7]\n",
            "A =\n",
            " [[10 11 12]\n",
            " [20 22 24]\n",
            " [ 7  8  9]\n",
            " [ 7  8  9]]\n",
            "4\n",
            "3\n"
          ]
        }
      ],
      "source": [
        "A = array([[1, 2, 3], [4, 5, 6], [7, 8, 9],[7, 8, 9]])\n",
        "print(\"A =\\n\", A)\n",
        "\n",
        "# Zeilen und Spalten\n",
        "print(\"A[0, :] =\", A[0, :])\n",
        "print(\"A[:, 0] =\", A[:, 0])\n",
        "\n",
        "# Sie koennen auch die Zeilen und Spalten von Matrizen aendern\n",
        "A[0, :] = [10, 11, 12] # Erste Zeile\n",
        "A[1, :] = 2 * A[0, :] # Zweite Zeile ist das Doppelte der ersten Zeile\n",
        "print(\"A =\\n\", A)\n",
        "\n",
        "# Falls noetig koennen Sie auch die Dimensionen einer Matrix auslesen\n",
        "numRows = A.shape[0]\n",
        "numCols = A.shape[1]\n",
        "print(numRows)\n",
        "print(numCols)"
      ]
    },
    {
      "cell_type": "markdown",
      "metadata": {
        "id": "5IFSz8CbeY2y"
      },
      "source": [
        "## Lösung von linearen Gleichungssystemen\n",
        "\n",
        "### Gauß-Jordan-Algorithmus\n",
        "Nutzen Sie jetzt das bislang gelernte, um den in der Vorlesung besprochenen Gauß-Jordan-Algorithmus zur Lösung von linearen Gleichungssystemen zu implementieren. Eingabewerte sind dabei eine Matrix $A$ und eine rechte Seite $\\vec b$, Rückgabewert ist der Vektor $\\vec x$, so dass $A\\cdot \\vec x=\\vec b$.\n",
        "\n",
        "Sie brauchen nur den Fall berücksichtigen, dass die Lösung des LGS eindeutig möglich ist."
      ]
    },
    {
      "cell_type": "code",
      "execution_count": null,
      "metadata": {
        "id": "Bu9XGwUXeY2y"
      },
      "outputs": [],
      "source": [
        "def gauss(A, b):\n",
        "  # TODO: Implementieren Sie den Gauß-Algorithmus\n",
        "  return x"
      ]
    },
    {
      "cell_type": "markdown",
      "metadata": {
        "id": "qxHz8LFKeY2y"
      },
      "source": [
        "Lösen Sie jetzt mit Ihrem Gauß-Algorithmus das LGS $$\\begin{pmatrix}\n",
        "1 & 1 & 1 \\\\\n",
        "2 & 4 & 3 \\\\\n",
        "3 & -1 & 4\n",
        "\\end{pmatrix}\\cdot\\begin{pmatrix}\n",
        "x_1 \\\\ x_2 \\\\ x_3\n",
        "\\end{pmatrix} = \\begin{pmatrix}\n",
        "2 \\\\ -1 \\\\ 7\n",
        "\\end{pmatrix}$$"
      ]
    },
    {
      "cell_type": "code",
      "execution_count": null,
      "metadata": {
        "id": "AhsLonemeY2y"
      },
      "outputs": [],
      "source": [
        "# TODO: Testen Sie Ihre Implementierung"
      ]
    },
    {
      "cell_type": "markdown",
      "metadata": {
        "id": "fB81p4ckeY2y"
      },
      "source": [
        "Hinweis: die richtige Lösung ist $\\begin{pmatrix}\n",
        "6 \\\\\n",
        "-1 \\\\\n",
        "3\n",
        "\\end{pmatrix}$"
      ]
    },
    {
      "cell_type": "markdown",
      "metadata": {
        "id": "qDFj4Z8VeY2y"
      },
      "source": [
        "### Lösen von LGS mit numpy\n",
        "Helps.In numpy gibt es natürlich schon vorgefertige Algorithmen, die Ihnen das lösen von LGS erlauben. Wenn Sie keine besonderen Anforderungen haben, können Sie in der Regel numpy.linalg.solve dafür verwenden."
      ]
    },
    {
      "cell_type": "code",
      "execution_count": null,
      "metadata": {
        "id": "EzDcBrAveY2y"
      },
      "outputs": [],
      "source": [
        "A = array([[1, 2, 3], [4, 5, 6], [7, 8, 9]])\n",
        "b = array([1, 2, 3])\n",
        "\n",
        "# Loesen des Gleichungssystem Ax = b\n",
        "x = linalg.solve(A, b)\n",
        "print(\"x =\\n\", x)\n",
        "\n",
        "# Probe\n",
        "b2 = A @ x\n",
        "print(\"b2 =\\n\", b2)"
      ]
    },
    {
      "cell_type": "markdown",
      "metadata": {
        "id": "-7veb1ayeY2z"
      },
      "source": [
        "## Berechnung von Determinanten\n",
        "Auch die Berechnung von Determinanten ist natürlich in numpy bereits vorhanden.\n",
        "Beachten Sie dass aufgrund von Rundungsfehlern die Determinante einer nicht-invertierbaren Matrix häufig nicht exakt 0 ist, sondern nur 0 im Rahmen der numerischen Genauigkeit."
      ]
    },
    {
      "cell_type": "code",
      "execution_count": null,
      "metadata": {
        "id": "_20sfTbyeY2z"
      },
      "outputs": [],
      "source": [
        "# Determinante einer invertierbaren Matrix\n",
        "A = array([[1, 2, 4], [2, 1, 3], [5, 6, 8]])\n",
        "detA = linalg.det(A)\n",
        "print(\"det(A) =\", detA)\n",
        "\n",
        "# Determinante einer nicht invertierbaren Matrix\n",
        "B = array(([1,2,3], [4,5,6], [7,8,9]))\n",
        "detB = linalg.det(B)\n",
        "print(\"det(B) =\", detB)"
      ]
    },
    {
      "cell_type": "markdown",
      "metadata": {
        "id": "njtJb4FceY2z"
      },
      "source": [
        "## Inverse Matrix\n",
        "Das Invertieren von Matrizen ist grundsätzlich möglich, aber numerisch instabil und wird daher in der Regel nicht gemacht."
      ]
    },
    {
      "cell_type": "code",
      "execution_count": null,
      "metadata": {
        "id": "9xpt6pMteY2z"
      },
      "outputs": [],
      "source": [
        "A = array([[1, 2], [3, 4]])\n",
        "\n",
        "A_inv = linalg.inv(A)\n",
        "print(\"A_inv =\\n\", A_inv)\n",
        "\n",
        "# Probe\n",
        "I = A @ A_inv\n",
        "print(\"I =\\n\", I)\n",
        "\n",
        "# Lösen von linearen Gleichungssystemen\n",
        "b = array([1, 2])\n",
        "x = A_inv @ b\n",
        "print(\"x =\\n\", x)"
      ]
    },
    {
      "cell_type": "markdown",
      "metadata": {
        "id": "vmDDAsMEeY2z"
      },
      "source": [
        "### Numerische Stabilität\n",
        "Hier sehen Sie ein Beispiel, für das das numerische Invertieren nicht zum richtigen Ergebnis führt. Sie können sehen, dass die Probe nichts mehr mit der ursprünglichen rechten Seite zu tun  hat."
      ]
    },
    {
      "cell_type": "code",
      "execution_count": null,
      "metadata": {
        "id": "SvZiCtmdeY2z"
      },
      "outputs": [],
      "source": [
        "# Erstellt eine Hilbert-Matrix – bekannt für schlechte Konditionierung\n",
        "n = 100\n",
        "hilbert_matrix = array([[1 / (i + j + 1) for j in range(n)] for i in range(n)])\n",
        "\n",
        "# Berechne die Inverse mit numpy.linalg.inv\n",
        "inverse_matrix = linalg.inv(hilbert_matrix)\n",
        "\n",
        "# Probe\n",
        "I = hilbert_matrix @ inverse_matrix\n",
        "print(\"Erste Zeile von I sollte (1, 0, 0, 0, ...) sein, ist aber \\n\", I[0, :10])\n",
        "\n",
        "# Loesung eines LGS mit der Inversen\n",
        "b = arange(1, n + 1)\n",
        "x = inverse_matrix @ b\n",
        "\n",
        "# Probe\n",
        "b2 = hilbert_matrix @ x\n",
        "print(\"b2 ist vollkommen unbrauchbar, sollte (1,2,3,...) sein, ist aber =\\n\", b2[:10])"
      ]
    },
    {
      "cell_type": "markdown",
      "metadata": {
        "id": "4EUk6WOreY2z"
      },
      "source": [
        "Das Lösen des LGS ist aber natürlich auf für diese schlecht konditionierte Matrix möglich und führt zum korrekten Ergebnis:"
      ]
    },
    {
      "cell_type": "code",
      "execution_count": null,
      "metadata": {
        "id": "eA0WNCMveY2z"
      },
      "outputs": [],
      "source": [
        "x = linalg.solve(hilbert_matrix, b)\n",
        "b2 = hilbert_matrix @ x\n",
        "print(\"b2 ist nun im wesentlichen korrekt =\\n\", b2[:10])"
      ]
    },
    {
      "cell_type": "markdown",
      "metadata": {
        "id": "L6rufEQReY2z"
      },
      "source": [
        "Probieren Sie doch einmal Ihren eigenen Gauß-Algorithmus für dieses LGS aus. Funktioniert er?"
      ]
    },
    {
      "cell_type": "code",
      "execution_count": null,
      "metadata": {
        "id": "DM_z_i5LeY2z"
      },
      "outputs": [],
      "source": [
        "# TODO"
      ]
    }
  ],
  "metadata": {
    "kernelspec": {
      "display_name": ".venv",
      "language": "python",
      "name": "python3"
    },
    "language_info": {
      "codemirror_mode": {
        "name": "ipython",
        "version": 3
      },
      "file_extension": ".py",
      "mimetype": "text/x-python",
      "name": "python",
      "nbconvert_exporter": "python",
      "pygments_lexer": "ipython3",
      "version": "3.12.8"
    },
    "colab": {
      "provenance": []
    }
  },
  "nbformat": 4,
  "nbformat_minor": 0
}